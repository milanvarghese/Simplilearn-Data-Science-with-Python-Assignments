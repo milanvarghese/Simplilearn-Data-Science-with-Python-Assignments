{
 "cells": [
  {
   "cell_type": "markdown",
   "metadata": {},
   "source": [
    "<img src=\"http://cfs22.simplicdn.net/ice9/new_logo.svgz \"/>\n",
    "\n",
    "# Assignment 01: Evaluate the GDP Dataset\n",
    "\n",
    "*The comments/sections provided are your cues to perform the assignment. You don't need to limit yourself to the number of rows/cells provided. You can add additional rows in each section to add more lines of code.*\n",
    "\n",
    "*If at any point in time you need help on solving this assignment, view our demo video to understand the different steps of the code.*\n",
    "\n",
    "**Happy coding!**\n",
    "\n",
    "* * *"
   ]
  },
  {
   "cell_type": "markdown",
   "metadata": {},
   "source": [
    "#### 1: View and add the dataset"
   ]
  },
  {
   "cell_type": "code",
   "execution_count": 1,
   "metadata": {},
   "outputs": [],
   "source": [
    "#Import required library\n",
    "import numpy as np\n",
    "import pandas as pd"
   ]
  },
  {
   "cell_type": "code",
   "execution_count": 36,
   "metadata": {},
   "outputs": [],
   "source": [
    "#Manually add the dataset\n",
    "countries = np.array(['Algeria','Angola','Argentina','Australia','Austria','Bahamas','Bangladesh','Belarus','Belgium','Bhutan','Brazil','Bulgaria','Cambodia','Cameroon','Chile','China','Colombia','Cyprus','Denmark','El Salvador','Estonia','Ethiopia','Fiji','Finland','France','Georgia','Ghana','Grenada','Guinea','Haiti','Honduras','Hungary','India','Indonesia','Ireland','Italy','Japan','Kenya', 'South Korea','Liberia','Malaysia','Mexico', 'Morocco','Nepal','New Zealand','Norway','Pakistan', 'Peru','Qatar','Russia','Singapore','South Africa','Spain','Sweden','Switzerland','Thailand', 'United Arab Emirates','United Kingdom','United States','Uruguay','Venezuela','Vietnam','Zimbabwe'])\n",
    "gdp = np.array([2255.225482,629.9553062,11601.63022,25306.82494,27266.40335,19466.99052,588.3691778,2890.345675,24733.62696,1445.760002,4803.398244,2618.876037,590.4521124,665.7982328,7122.938458,2639.54156,3362.4656,15378.16704,30860.12808,2579.115607,6525.541272,229.6769525,2242.689259,27570.4852,23016.84778,1334.646773,402.6953275,6047.200797,394.1156638,385.5793827,1414.072488,5745.981529,837.7464011,1206.991065,27715.52837,18937.24998,39578.07441,478.2194906,16684.21278,279.2204061,5345.213415,6288.25324,1908.304416,274.8728621,14646.42094,40034.85063,672.1547506,3359.517402,36152.66676,3054.727742,33529.83052,3825.093781,15428.32098,33630.24604,39170.41371,2699.123242,21058.43643,28272.40661,37691.02733,9581.05659,5671.912202,757.4009286,347.7456605])"
   ]
  },
  {
   "cell_type": "markdown",
   "metadata": {
    "collapsed": true
   },
   "source": [
    "#### 2: Find and print the name of the country with the highest GDP"
   ]
  },
  {
   "cell_type": "code",
   "execution_count": 40,
   "metadata": {},
   "outputs": [
    {
     "data": {
      "text/plain": [
       "40034.85063"
      ]
     },
     "execution_count": 40,
     "metadata": {},
     "output_type": "execute_result"
    }
   ],
   "source": [
    "#Use the argmax() method to find the highest GDP\n",
    "gdp[gdp.argmax()]"
   ]
  },
  {
   "cell_type": "code",
   "execution_count": 39,
   "metadata": {},
   "outputs": [
    {
     "data": {
      "text/plain": [
       "'Norway'"
      ]
     },
     "execution_count": 39,
     "metadata": {},
     "output_type": "execute_result"
    }
   ],
   "source": [
    "#Print the name of the country\n",
    "countries[gdp.argmax()]"
   ]
  },
  {
   "cell_type": "markdown",
   "metadata": {},
   "source": [
    "#### 3: Find and print the name of the country with the lowest GDP"
   ]
  },
  {
   "cell_type": "code",
   "execution_count": 41,
   "metadata": {},
   "outputs": [
    {
     "data": {
      "text/plain": [
       "229.6769525"
      ]
     },
     "execution_count": 41,
     "metadata": {},
     "output_type": "execute_result"
    }
   ],
   "source": [
    "#Use the argmin() method to find the lowest GDP\n",
    "gdp[gdp.argmin()]"
   ]
  },
  {
   "cell_type": "code",
   "execution_count": 42,
   "metadata": {},
   "outputs": [
    {
     "data": {
      "text/plain": [
       "'Ethiopia'"
      ]
     },
     "execution_count": 42,
     "metadata": {},
     "output_type": "execute_result"
    }
   ],
   "source": [
    "#Print the name of the country\n",
    "countries[gdp.argmin()]"
   ]
  },
  {
   "cell_type": "markdown",
   "metadata": {},
   "source": [
    "#### 4: Print out text ('evaluating country') and input value ('country name') iteratively"
   ]
  },
  {
   "cell_type": "code",
   "execution_count": 43,
   "metadata": {},
   "outputs": [
    {
     "name": "stdout",
     "output_type": "stream",
     "text": [
      "Evalueating Country: Algeria\n",
      "Evalueating Country: Angola\n",
      "Evalueating Country: Argentina\n",
      "Evalueating Country: Australia\n",
      "Evalueating Country: Austria\n",
      "Evalueating Country: Bahamas\n",
      "Evalueating Country: Bangladesh\n",
      "Evalueating Country: Belarus\n",
      "Evalueating Country: Belgium\n",
      "Evalueating Country: Bhutan\n",
      "Evalueating Country: Brazil\n",
      "Evalueating Country: Bulgaria\n",
      "Evalueating Country: Cambodia\n",
      "Evalueating Country: Cameroon\n",
      "Evalueating Country: Chile\n",
      "Evalueating Country: China\n",
      "Evalueating Country: Colombia\n",
      "Evalueating Country: Cyprus\n",
      "Evalueating Country: Denmark\n",
      "Evalueating Country: El Salvador\n",
      "Evalueating Country: Estonia\n",
      "Evalueating Country: Ethiopia\n",
      "Evalueating Country: Fiji\n",
      "Evalueating Country: Finland\n",
      "Evalueating Country: France\n",
      "Evalueating Country: Georgia\n",
      "Evalueating Country: Ghana\n",
      "Evalueating Country: Grenada\n",
      "Evalueating Country: Guinea\n",
      "Evalueating Country: Haiti\n",
      "Evalueating Country: Honduras\n",
      "Evalueating Country: Hungary\n",
      "Evalueating Country: India\n",
      "Evalueating Country: Indonesia\n",
      "Evalueating Country: Ireland\n",
      "Evalueating Country: Italy\n",
      "Evalueating Country: Japan\n",
      "Evalueating Country: Kenya\n",
      "Evalueating Country: South Korea\n",
      "Evalueating Country: Liberia\n",
      "Evalueating Country: Malaysia\n",
      "Evalueating Country: Mexico\n",
      "Evalueating Country: Morocco\n",
      "Evalueating Country: Nepal\n",
      "Evalueating Country: New Zealand\n",
      "Evalueating Country: Norway\n",
      "Evalueating Country: Pakistan\n",
      "Evalueating Country: Peru\n",
      "Evalueating Country: Qatar\n",
      "Evalueating Country: Russia\n",
      "Evalueating Country: Singapore\n",
      "Evalueating Country: South Africa\n",
      "Evalueating Country: Spain\n",
      "Evalueating Country: Sweden\n",
      "Evalueating Country: Switzerland\n",
      "Evalueating Country: Thailand\n",
      "Evalueating Country: United Arab Emirates\n",
      "Evalueating Country: United Kingdom\n",
      "Evalueating Country: United States\n",
      "Evalueating Country: Uruguay\n",
      "Evalueating Country: Venezuela\n",
      "Evalueating Country: Vietnam\n",
      "Evalueating Country: Zimbabwe\n"
     ]
    }
   ],
   "source": [
    "#Use a for loop to print the required output\n",
    "for i in countries:\n",
    "    print(\"Evalueating Country:\", i)"
   ]
  },
  {
   "cell_type": "markdown",
   "metadata": {},
   "source": [
    "#### 5: Print out the entire list of the countries with their GDPs"
   ]
  },
  {
   "cell_type": "code",
   "execution_count": 48,
   "metadata": {},
   "outputs": [
    {
     "name": "stdout",
     "output_type": "stream",
     "text": [
      "Evalueating Country: Algeria \tGDP:  2255.225482\n",
      "Evalueating Country: Angola \tGDP:  629.9553062\n",
      "Evalueating Country: Argentina \tGDP:  11601.63022\n",
      "Evalueating Country: Australia \tGDP:  25306.82494\n",
      "Evalueating Country: Austria \tGDP:  27266.40335\n",
      "Evalueating Country: Bahamas \tGDP:  19466.99052\n",
      "Evalueating Country: Bangladesh \tGDP:  588.3691778\n",
      "Evalueating Country: Belarus \tGDP:  2890.345675\n",
      "Evalueating Country: Belgium \tGDP:  24733.62696\n",
      "Evalueating Country: Bhutan \tGDP:  1445.760002\n",
      "Evalueating Country: Brazil \tGDP:  4803.398244\n",
      "Evalueating Country: Bulgaria \tGDP:  2618.876037\n",
      "Evalueating Country: Cambodia \tGDP:  590.4521124\n",
      "Evalueating Country: Cameroon \tGDP:  665.7982328\n",
      "Evalueating Country: Chile \tGDP:  7122.938458\n",
      "Evalueating Country: China \tGDP:  2639.54156\n",
      "Evalueating Country: Colombia \tGDP:  3362.4656\n",
      "Evalueating Country: Cyprus \tGDP:  15378.16704\n",
      "Evalueating Country: Denmark \tGDP:  30860.12808\n",
      "Evalueating Country: El Salvador \tGDP:  2579.115607\n",
      "Evalueating Country: Estonia \tGDP:  6525.541272\n",
      "Evalueating Country: Ethiopia \tGDP:  229.6769525\n",
      "Evalueating Country: Fiji \tGDP:  2242.689259\n",
      "Evalueating Country: Finland \tGDP:  27570.4852\n",
      "Evalueating Country: France \tGDP:  23016.84778\n",
      "Evalueating Country: Georgia \tGDP:  1334.646773\n",
      "Evalueating Country: Ghana \tGDP:  402.6953275\n",
      "Evalueating Country: Grenada \tGDP:  6047.200797\n",
      "Evalueating Country: Guinea \tGDP:  394.1156638\n",
      "Evalueating Country: Haiti \tGDP:  385.5793827\n",
      "Evalueating Country: Honduras \tGDP:  1414.072488\n",
      "Evalueating Country: Hungary \tGDP:  5745.981529\n",
      "Evalueating Country: India \tGDP:  837.7464011\n",
      "Evalueating Country: Indonesia \tGDP:  1206.991065\n",
      "Evalueating Country: Ireland \tGDP:  27715.52837\n",
      "Evalueating Country: Italy \tGDP:  18937.24998\n",
      "Evalueating Country: Japan \tGDP:  39578.07441\n",
      "Evalueating Country: Kenya \tGDP:  478.2194906\n",
      "Evalueating Country: South Korea \tGDP:  16684.21278\n",
      "Evalueating Country: Liberia \tGDP:  279.2204061\n",
      "Evalueating Country: Malaysia \tGDP:  5345.213415\n",
      "Evalueating Country: Mexico \tGDP:  6288.25324\n",
      "Evalueating Country: Morocco \tGDP:  1908.304416\n",
      "Evalueating Country: Nepal \tGDP:  274.8728621\n",
      "Evalueating Country: New Zealand \tGDP:  14646.42094\n",
      "Evalueating Country: Norway \tGDP:  40034.85063\n",
      "Evalueating Country: Pakistan \tGDP:  672.1547506\n",
      "Evalueating Country: Peru \tGDP:  3359.517402\n",
      "Evalueating Country: Qatar \tGDP:  36152.66676\n",
      "Evalueating Country: Russia \tGDP:  3054.727742\n",
      "Evalueating Country: Singapore \tGDP:  33529.83052\n",
      "Evalueating Country: South Africa \tGDP:  3825.093781\n",
      "Evalueating Country: Spain \tGDP:  15428.32098\n",
      "Evalueating Country: Sweden \tGDP:  33630.24604\n",
      "Evalueating Country: Switzerland \tGDP:  39170.41371\n",
      "Evalueating Country: Thailand \tGDP:  2699.123242\n",
      "Evalueating Country: United Arab Emirates \tGDP:  21058.43643\n",
      "Evalueating Country: United Kingdom \tGDP:  28272.40661\n",
      "Evalueating Country: United States \tGDP:  37691.02733\n",
      "Evalueating Country: Uruguay \tGDP:  9581.05659\n",
      "Evalueating Country: Venezuela \tGDP:  5671.912202\n",
      "Evalueating Country: Vietnam \tGDP:  757.4009286\n",
      "Evalueating Country: Zimbabwe \tGDP:  347.7456605\n"
     ]
    }
   ],
   "source": [
    "#Use a for loop to print the required list\n",
    "for i,j in zip(countries, gdp):\n",
    "    print(\"Evalueating Country:\", i, \"\\tGDP: \", j)"
   ]
  },
  {
   "cell_type": "markdown",
   "metadata": {},
   "source": [
    "#### 6: Print the following:\n",
    "1. Highest GPD value\n",
    "2. Lowest GDP value\n",
    "3. Mean GDP value\n",
    "4. Standardized GDP value\n",
    "5. Sum of all the GDPs"
   ]
  },
  {
   "cell_type": "code",
   "execution_count": 52,
   "metadata": {},
   "outputs": [
    {
     "name": "stdout",
     "output_type": "stream",
     "text": [
      "Highest GPD value: 40034.85063\n",
      "Lowest GDP value: 229.6769525\n",
      "Mean GDP value:  11289.409271639683\n",
      "Standardized GDP value: 12743.828910617945\n",
      "Sum of all the GDPs: 711232.7841133\n"
     ]
    }
   ],
   "source": [
    "print(\"Highest GPD value:\", max(gdp))\n",
    "print(\"Lowest GDP value:\", min(gdp))\n",
    "print(\"Mean GDP value: \", gdp.mean())\n",
    "print(\"Standardized GDP value:\", gdp.std())\n",
    "print(\"Sum of all the GDPs:\", gdp.sum())"
   ]
  }
 ],
 "metadata": {
  "kernelspec": {
   "display_name": "Python 3",
   "language": "python",
   "name": "python3"
  },
  "language_info": {
   "codemirror_mode": {
    "name": "ipython",
    "version": 3
   },
   "file_extension": ".py",
   "mimetype": "text/x-python",
   "name": "python",
   "nbconvert_exporter": "python",
   "pygments_lexer": "ipython3",
   "version": "3.8.5"
  }
 },
 "nbformat": 4,
 "nbformat_minor": 1
}
